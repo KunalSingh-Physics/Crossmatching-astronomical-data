{
  "cells": [
    {
      "cell_type": "markdown",
      "metadata": {
        "id": "view-in-github",
        "colab_type": "text"
      },
      "source": [
        "<a href=\"https://colab.research.google.com/github/KunalSingh-Physics/Crossmatching-astronomical-data/blob/main/Cross_Matching_Data_Catalogues.ipynb\" target=\"_parent\"><img src=\"https://colab.research.google.com/assets/colab-badge.svg\" alt=\"Open In Colab\"/></a>"
      ]
    },
    {
      "cell_type": "markdown",
      "source": [
        "# *Cross Matching Astronomical Data:*\n",
        "\n",
        "\n",
        "\n",
        "---\n",
        "\n",
        "Kunal Singh \n",
        "\n",
        "Tanishka Manjrekar"
      ],
      "metadata": {
        "id": "hoClD10h1Ddg"
      }
    },
    {
      "cell_type": "markdown",
      "source": [
        "Mounting Drive:"
      ],
      "metadata": {
        "id": "TwwSm8Nt4ShQ"
      }
    },
    {
      "cell_type": "code",
      "execution_count": null,
      "metadata": {
        "colab": {
          "base_uri": "https://localhost:8080/"
        },
        "id": "LPHqgjvclrAo",
        "outputId": "4b1953ef-6dc5-47d5-fea0-b358f673870f"
      },
      "outputs": [
        {
          "output_type": "stream",
          "name": "stdout",
          "text": [
            "Drive already mounted at /content/drive; to attempt to forcibly remount, call drive.mount(\"/content/drive\", force_remount=True).\n"
          ]
        }
      ],
      "source": [
        "from google.colab import drive\n",
        "drive.mount('/content/drive')"
      ]
    },
    {
      "cell_type": "markdown",
      "source": [
        "Importing Required Libraries:"
      ],
      "metadata": {
        "id": "El9i4f144VTH"
      }
    },
    {
      "cell_type": "code",
      "source": [
        "import time\n",
        "import numpy as np\n",
        "import pandas as pd\n",
        "import gzip\n",
        "import csv\n",
        "import json\n",
        "import pandas as pd\n",
        "import collections\n",
        "import operator\n",
        "import matplotlib.pyplot as plt"
      ],
      "metadata": {
        "id": "0J4gHNvtKNN4"
      },
      "execution_count": null,
      "outputs": []
    },
    {
      "cell_type": "markdown",
      "source": [
        "# Defining Algorithms:"
      ],
      "metadata": {
        "id": "TqtQAW51exf6"
      }
    },
    {
      "cell_type": "markdown",
      "source": [
        "Defining Conversion Functions:"
      ],
      "metadata": {
        "id": "BmrrZDcqcG1p"
      }
    },
    {
      "cell_type": "code",
      "source": [
        "def hms2dec(h,m,s):\n",
        "  d=15*(h+(m/60)+(s/3600))\n",
        "  return d\n",
        "def dms2dec(d1,m1,s1):\n",
        "  if d1>=0:\n",
        "    deg=(float(abs(d1))+float((m1/60))+float((s1/3600)))\n",
        "  elif d1<0:\n",
        "    deg=-1*(float(abs(d1))+float((m1/60))+float((s1/3600)))\n",
        "  return deg"
      ],
      "metadata": {
        "id": "JxKwyFXMcFyD"
      },
      "execution_count": null,
      "outputs": []
    },
    {
      "cell_type": "markdown",
      "source": [
        "## Importing data from catalogues\n",
        "\n",
        "\n",
        "*   Brute Force\n",
        "*   KD Tree\n",
        "\n"
      ],
      "metadata": {
        "id": "JL36FDYf95da"
      }
    },
    {
      "cell_type": "markdown",
      "source": [
        "Brute Force"
      ],
      "metadata": {
        "id": "FaSYqdGIcNll"
      }
    },
    {
      "cell_type": "code",
      "source": [
        "def import_bss1():\n",
        "  cat=np.loadtxt('/content/drive/Shareddrives/MSc 1 Sem 2/Astronomy and Astrophysics/bss.txt',usecols=range(1,7))\n",
        "  cat=np.array(cat)\n",
        "  n=1\n",
        "  cn=[]\n",
        "  for j in cat:\n",
        "    \n",
        "    ra=hms2dec(j[0],j[1],j[2])\n",
        "    dec=dms2dec(j[3],j[4],j[5])\n",
        "    new=(n,ra,dec)\n",
        "    cn.append(new)\n",
        "    n+=1\n",
        "  return cn\n",
        "\n",
        "\n",
        "def import_superfull1():\n",
        "  k1=1\n",
        "  k=[]\n",
        "  cn=[]\n",
        "  data = pd.read_csv('/content/drive/Shareddrives/MSc 1 Sem 2/Astronomy and Astrophysics/SCOS_XSC_mCl1_B21.5_R20_noStepWedges.csv.gz', nrows=500, compression='gzip',usecols=(1,2,3))\n",
        "  ra = data['ra'].tolist()\n",
        "  dec = data['dec'].tolist()\n",
        "  bmag = data['Bmag'].tolist()\n",
        "  for i in range(len(ra)):\n",
        "    k1+=1\n",
        "    k.append(k1)\n",
        "    cn.append((k1,ra[i],dec[i]))\n",
        "  return cn"
      ],
      "metadata": {
        "id": "KoicDZzhUf22"
      },
      "execution_count": null,
      "outputs": []
    },
    {
      "cell_type": "markdown",
      "source": [
        "\n",
        "Brute Force Algorithm"
      ],
      "metadata": {
        "id": "i6lowpOBJvf8"
      }
    },
    {
      "cell_type": "code",
      "source": [
        "def crossmatch(cat1, cat2, max_radius):\n",
        "  def angular_dist(ra1,dec1,ra2,dec2):\n",
        "    ra1=np.radians(ra1)\n",
        "    ra2=np.radians(ra2)\n",
        "    dec1=np.radians(dec1)\n",
        "    dec2=np.radians(dec2)\n",
        "    b=np.cos(dec1)*np.cos(dec2)*np.sin(np.abs(ra1-ra2)/2)**2\n",
        "    a=np.sin(np.abs(dec1-dec2)/2)**2\n",
        "    d=2*np.arcsin(np.sqrt(a+b))\n",
        "    d=np.degrees(d)\n",
        "    return d\n",
        "  match = []\n",
        "  no_match = []\n",
        "  start = time.perf_counter()\n",
        "  for id1, ra1, dec1 in cat1:\n",
        "      closest_dist = np.inf\n",
        "      closest_id2 = None\n",
        "      for id2, ra2, dec2 in cat2:\n",
        "          dist = angular_dist(ra1, dec1, ra2, dec2)\n",
        "          if dist < closest_dist:\n",
        "              closest_id2 = id2\n",
        "              closest_dist = dist\n",
        "      \n",
        "      # Ignore match if it's outside the maximum radius\n",
        "      if closest_dist > max_radius:\n",
        "          no_match.append(id1)\n",
        "      else:\n",
        "          match.append((id1, closest_id2, closest_dist))\n",
        "      time_taken = time.perf_counter() - start\n",
        "  return match, no_match,time_taken\n"
      ],
      "metadata": {
        "id": "nSyHgfmlJuR8"
      },
      "execution_count": null,
      "outputs": []
    },
    {
      "cell_type": "markdown",
      "source": [
        "KD Tree"
      ],
      "metadata": {
        "id": "fkpmCYiscPyH"
      }
    },
    {
      "cell_type": "code",
      "source": [
        "def import_bss():\n",
        "  cat=np.loadtxt('/content/drive/Shareddrives/MSc 1 Sem 2/Astronomy and Astrophysics/bss.txt',usecols=(1,2,3,4,5,6,8))       #Add more colums of the catalogue (till 10th col =flux)\n",
        "  cat=np.array(cat)\n",
        "  n=1\n",
        "  cn=[]\n",
        "  n_1=[]\n",
        "  flux=[]\n",
        "  for j in cat:\n",
        "    \n",
        "    ra=hms2dec(j[0],j[1],j[2])\n",
        "    dec=dms2dec(j[3],j[4],j[5])\n",
        "    flux.append(j[6])\n",
        "    new=(ra,dec)\n",
        "    n_1.append(n)\n",
        "    cn.append(new)\n",
        "    n+=1\n",
        "  return [n_1,cn,flux]\n",
        "  \n",
        "def import_superfull(rows):\n",
        "  k1=1\n",
        "  k=[]\n",
        "  cn=[]\n",
        "  data = pd.read_csv('/content/drive/Shareddrives/MSc 1 Sem 2/Astronomy and Astrophysics/SCOS_XSC_mCl1_B21.5_R20_noStepWedges.csv.gz', nrows=rows, compression='gzip',usecols=(1,2,3))\n",
        "  ra = data['ra'].tolist()\n",
        "  dec = data['dec'].tolist()\n",
        "  bmag = data['Bmag'].tolist()\n",
        "  for i in range(len(ra)):\n",
        "    k1+=1\n",
        "    k.append(k1)\n",
        "    cn.append((ra[i],dec[i]))\n",
        "  return [k,cn,bmag]\n",
        "\n",
        "def import_at20g():\n",
        "  k1=1\n",
        "  k=[]\n",
        "  cn=[]\n",
        "  data=pd.read_csv('/content/drive/Shareddrives/MSc 1 Sem 2/Astronomy and Astrophysics/AT20G_Full.csv',usecols=(1,2,3,5))       #Add more colums of the catalogue (till 10th col =flux)\n",
        "  ra1 = data['ra'].tolist()\n",
        "  dec1 = data['dec'].tolist()\n",
        "  flux20hz = data['flux_1p5_cm'].tolist()\n",
        "  flux8hz = data['flux_3p5_cm'].tolist()\n",
        "  for i in range(len(ra1)):\n",
        "    k1+=1\n",
        "    k.append(k1)\n",
        "    cn.append((ra1[i],dec1[i]))\n",
        "  return [k,cn,flux20hz,flux8hz]\n",
        "\n",
        "def import_sdss():\n",
        "  k1=1\n",
        "  k=[]\n",
        "  cn=[]\n",
        "  data = pd.read_csv('/content/drive/Shareddrives/MSc 1 Sem 2/Astronomy and Astrophysics/SDSS_big.csv',usecols=(1,2,3,4,5,6,7))\n",
        "  ra = data['ra'].tolist()\n",
        "  dec = data['dec'].tolist()\n",
        "  u = data['u'].tolist()\n",
        "  g = data['g'].tolist()\n",
        "  r = data['r'].tolist()\n",
        "  i = data['i'].tolist()\n",
        "  z = data['z'].tolist()\n",
        "  for j in range(len(ra)):\n",
        "    k1+=1\n",
        "    k.append(k1)\n",
        "    cn.append((ra[j],dec[j]))\n",
        "  return [k,cn,u,g,r,i,z]\n"
      ],
      "metadata": {
        "id": "sa6CrgOA94Xn"
      },
      "execution_count": null,
      "outputs": []
    },
    {
      "cell_type": "markdown",
      "metadata": {
        "id": "-iW2X2YvkFby"
      },
      "source": [
        "KD Tree Algorithm"
      ]
    },
    {
      "cell_type": "code",
      "execution_count": null,
      "metadata": {
        "id": "WkXlOmoJkTz4"
      },
      "outputs": [],
      "source": [
        "#constructing a KD tree\n",
        "BT = collections.namedtuple(\"BT\", [\"value\", \"left\", \"right\"])\n",
        "def kdtree(points):\n",
        "\n",
        "    k = len(points[0])\n",
        "    \n",
        "    def build(*, points, depth):\n",
        "        if len(points) == 0:\n",
        "            return None\n",
        "        \n",
        "        points.sort(key=operator.itemgetter(depth % k))\n",
        "        middle = len(points) // 2\n",
        "        \n",
        "        return BT(\n",
        "            value = points[middle],\n",
        "            left = build(\n",
        "                points=points[:middle],\n",
        "                depth=depth+1,\n",
        "            ),\n",
        "            right = build(\n",
        "                points=points[middle+1:],\n",
        "                depth=depth+1,\n",
        "            ),\n",
        "        )\n",
        "    \n",
        "    return build(points=list(points), depth=0)\n",
        "\n",
        "NNRecord = collections.namedtuple(\"NNRecord\", [\"point\", \"distance\"])\n",
        "\n",
        "def find_nearest_neighbor(*, tree, point):\n",
        "  def angular_dist(X,Y):\n",
        "    ra1,dec1=X\n",
        "    ra2,dec2=Y\n",
        "    ra1=np.radians(ra1)\n",
        "    ra2=np.radians(ra2)\n",
        "    dec1=np.radians(dec1)\n",
        "    dec2=np.radians(dec2)\n",
        "    b=np.cos(dec1)*np.cos(dec2)*np.sin(np.abs(ra1-ra2)/2)**2\n",
        "    a=np.sin(np.abs(dec1-dec2)/2)**2\n",
        "    d=2*np.arcsin(np.sqrt(a+b))\n",
        "    d=np.degrees(d)\n",
        "    return d\n",
        "\n",
        "  k = len(point)\n",
        "  \n",
        "  best = None\n",
        "  def search(*, tree, depth):\n",
        "      nonlocal best\n",
        "      \n",
        "      if tree is None:\n",
        "          return\n",
        "      \n",
        "      distance = angular_dist(tree.value, point)\n",
        "      if best is None or distance < best.distance:\n",
        "          best = NNRecord(point=tree.value, distance=distance)\n",
        "      \n",
        "      axis = depth % k\n",
        "      diff = point[axis] - tree.value[axis]\n",
        "      if diff <= 0:\n",
        "          close, away = tree.left, tree.right\n",
        "      else:\n",
        "          close, away = tree.right, tree.left\n",
        "      \n",
        "      search(tree=close, depth=depth+1)\n",
        "      if diff**2 < best.distance:\n",
        "          search(tree=away, depth=depth+1)\n",
        "  \n",
        "  search(tree=tree, depth=0)\n",
        "  d3=angular_dist(best.point,point)\n",
        "  return point,best.point,d3\n",
        "\n",
        "def KD_CM(reference_points,query_points,d):\n",
        "  max_dist=d/3600\n",
        "  tree = kdtree(reference_points)\n",
        "  query_new=[]\n",
        "  reference_new=[]\n",
        "  dist=[]\n",
        "  start = time.perf_counter()\n",
        "  for i in query_points:\n",
        "    a,b,c=find_nearest_neighbor(tree=tree, point=i)\n",
        "    if c<=max_dist:\n",
        "      query_new.append(a)\n",
        "      reference_new.append(b)\n",
        "      dist.append(c)\n",
        "  time_kd = time.perf_counter() - start\n",
        "  print('Time taken for KD: ',time_kd)\n",
        "  return reference_new,query_new,dist"
      ]
    },
    {
      "cell_type": "markdown",
      "source": [
        "# Time Complexity:"
      ],
      "metadata": {
        "id": "dswt_Km-eqYp"
      }
    },
    {
      "cell_type": "markdown",
      "source": [
        "Calling Brute Force Algorithm"
      ],
      "metadata": {
        "id": "p-kWAbV44r3z"
      }
    },
    {
      "cell_type": "code",
      "source": [
        "bss_cat = import_bss1()\n",
        "super_cat = import_superfull1()\n",
        "\n",
        "\n",
        "max_dist = 1/3600\n",
        "matches, no_matches,time1 = crossmatch(bss_cat, super_cat, max_dist)\n",
        "print('TIme taken for Brute Force:',time1)"
      ],
      "metadata": {
        "colab": {
          "base_uri": "https://localhost:8080/"
        },
        "id": "jIoY-aOnejbd",
        "outputId": "1f197dae-8578-4194-b72b-11b9d2b9bbe6"
      },
      "execution_count": null,
      "outputs": [
        {
          "output_type": "stream",
          "name": "stdout",
          "text": [
            "TIme taken for Brute Force: 1.4306379030003882\n"
          ]
        }
      ]
    },
    {
      "cell_type": "markdown",
      "source": [
        "Calling KD Tree Algorithm"
      ],
      "metadata": {
        "id": "2yHt7_rx4vMD"
      }
    },
    {
      "cell_type": "code",
      "source": [
        "[id1,r,sigRA]=import_superfull(500)\n",
        "[id2,q,flux]=import_bss()\n",
        "r_new,q_new,dist=KD_CM(r,q,1)"
      ],
      "metadata": {
        "colab": {
          "base_uri": "https://localhost:8080/"
        },
        "id": "a-cnXRHKNZCK",
        "outputId": "e8a21070-f844-475a-b16d-472134d8afde"
      },
      "execution_count": null,
      "outputs": [
        {
          "output_type": "stream",
          "name": "stdout",
          "text": [
            "Time taken for KD:  0.03799206099938601\n"
          ]
        }
      ]
    },
    {
      "cell_type": "markdown",
      "source": [
        "# AT20G X SDSS"
      ],
      "metadata": {
        "id": "DdiDAGV_WVfz"
      }
    },
    {
      "cell_type": "markdown",
      "source": [
        "Importing data and Cross Matching:"
      ],
      "metadata": {
        "id": "xe0tQl6A4zrJ"
      }
    },
    {
      "cell_type": "code",
      "source": [
        "og=[id1,reference_points,u,g,r,i,z]=import_sdss()\n",
        "og1=[id2,query_points,flux20hz,flux8hz]=import_at20g()\n",
        "\n",
        "r_new4,q_new4,dist4=KD_CM(reference_points,query_points,10)"
      ],
      "metadata": {
        "id": "f5scqWrIoYgP",
        "colab": {
          "base_uri": "https://localhost:8080/"
        },
        "outputId": "cc89f959-9b79-4eac-dd4a-55a393781b24"
      },
      "execution_count": null,
      "outputs": [
        {
          "output_type": "stream",
          "name": "stdout",
          "text": [
            "Time taken for KD:  8.574697754000226\n"
          ]
        }
      ]
    },
    {
      "cell_type": "markdown",
      "source": [
        "Creating New Catalogue:"
      ],
      "metadata": {
        "id": "ml87GuMWcggl"
      }
    },
    {
      "cell_type": "code",
      "source": [
        "ra4=[]\n",
        "dec4=[]\n",
        "us=[]\n",
        "gs=[]\n",
        "rs=[]\n",
        "i_s=[]\n",
        "zs=[]\n",
        "k=[]\n",
        "k1=1\n",
        "ara0=[]\n",
        "adec0=[]\n",
        "for j in r_new4:\n",
        "  for i1 in og[1]:\n",
        "    if i1==j:    \n",
        "      (ra,dec)=og[1][og[1].index(i1)]\n",
        "      us1=og[2][og[1].index(i1)]\n",
        "      gs1=og[3][og[1].index(i1)]\n",
        "      rs1=og[4][og[1].index(i1)]\n",
        "      is1=og[5][og[1].index(i1)]    \n",
        "      zs1=og[6][og[1].index(i1)]  \n",
        "      ra4.append(ra)\n",
        "      dec4.append(dec)\n",
        "      us.append(us1)\n",
        "      gs.append(gs1)\n",
        "      rs.append(rs1)\n",
        "      i_s.append(is1)\n",
        "      zs.append(zs1)\n",
        "      k.append(k1)\n",
        "      k1+=1\n",
        "    \n",
        "\n",
        "    \n",
        "\n",
        "ra5=[]\n",
        "dec5=[]\n",
        "flux1=[]\n",
        "flux2=[]\n",
        "ara=[]\n",
        "adec=[]\n",
        "for j in q_new4:\n",
        "  for i in og1[1]:\n",
        "    if i==j:    \n",
        "      (r,d)=og1[1][og1[1].index(i)]\n",
        "      fa1=og1[2][og1[1].index(i)]\n",
        "      fa2=og1[3][og1[1].index(i)]\n",
        "      ra5.append(r)\n",
        "      dec5.append(d)\n",
        "      flux1.append(fa1)\n",
        "      flux2.append(fa2)\n",
        "\n",
        "\n",
        "cat_dict={'index':k,'ra4':ra4,'dec4':dec4,'ra5':ra5,'dec5':dec5,'flux20Hz':flux1,'u':us,'g':gs,'r':rs,'i':i_s,'z':zs}"
      ],
      "metadata": {
        "id": "TUBCtEeTrWpi"
      },
      "execution_count": null,
      "outputs": []
    },
    {
      "cell_type": "code",
      "source": [
        "df3=pd.DataFrame(cat_dict)\n",
        "df3.to_csv(\"/content/drive/Shareddrives/MSc 1 Sem 2/at20gxsdss.csv\")\n",
        "df3"
      ],
      "metadata": {
        "id": "eQXHPlS6uGVq",
        "colab": {
          "base_uri": "https://localhost:8080/",
          "height": 237
        },
        "outputId": "11d01b8d-99ca-46b0-ba47-204cf5d6231d"
      },
      "execution_count": null,
      "outputs": [
        {
          "output_type": "execute_result",
          "data": {
            "text/plain": [
              "   index         ra4      dec4        ra5     dec5  flux20Hz         u  \\\n",
              "0      1   34.261119 -8.347842   34.26125 -8.34778     415.0  19.52138   \n",
              "1      2   60.577036 -6.320263   60.57721 -6.32022      99.0  19.23860   \n",
              "2      3    0.627612 -3.527911    0.62750 -3.52781      53.0  18.61899   \n",
              "3      4    7.254108 -1.228265    7.25421 -1.22825     207.0  17.50779   \n",
              "4      5  319.013462 -1.141231  319.01350 -1.14133      93.0  18.87722   \n",
              "5      6  184.494719 -0.496196  184.49479 -0.49594     404.0  18.63554   \n",
              "\n",
              "          g         r         i         z  \n",
              "0  18.90502  18.34309  17.96175  17.66989  \n",
              "1  17.36408  16.30307  15.70507  15.29092  \n",
              "2  18.18854  18.09792  18.22570  18.07231  \n",
              "3  15.65948  14.69832  14.23905  13.93871  \n",
              "4  18.36756  17.88198  17.58896  17.31564  \n",
              "5  18.11830  17.67046  17.37298  17.12646  "
            ],
            "text/html": [
              "\n",
              "  <div id=\"df-7d1e91ad-bc3f-4248-8ebd-bfd05dde8488\">\n",
              "    <div class=\"colab-df-container\">\n",
              "      <div>\n",
              "<style scoped>\n",
              "    .dataframe tbody tr th:only-of-type {\n",
              "        vertical-align: middle;\n",
              "    }\n",
              "\n",
              "    .dataframe tbody tr th {\n",
              "        vertical-align: top;\n",
              "    }\n",
              "\n",
              "    .dataframe thead th {\n",
              "        text-align: right;\n",
              "    }\n",
              "</style>\n",
              "<table border=\"1\" class=\"dataframe\">\n",
              "  <thead>\n",
              "    <tr style=\"text-align: right;\">\n",
              "      <th></th>\n",
              "      <th>index</th>\n",
              "      <th>ra4</th>\n",
              "      <th>dec4</th>\n",
              "      <th>ra5</th>\n",
              "      <th>dec5</th>\n",
              "      <th>flux20Hz</th>\n",
              "      <th>u</th>\n",
              "      <th>g</th>\n",
              "      <th>r</th>\n",
              "      <th>i</th>\n",
              "      <th>z</th>\n",
              "    </tr>\n",
              "  </thead>\n",
              "  <tbody>\n",
              "    <tr>\n",
              "      <th>0</th>\n",
              "      <td>1</td>\n",
              "      <td>34.261119</td>\n",
              "      <td>-8.347842</td>\n",
              "      <td>34.26125</td>\n",
              "      <td>-8.34778</td>\n",
              "      <td>415.0</td>\n",
              "      <td>19.52138</td>\n",
              "      <td>18.90502</td>\n",
              "      <td>18.34309</td>\n",
              "      <td>17.96175</td>\n",
              "      <td>17.66989</td>\n",
              "    </tr>\n",
              "    <tr>\n",
              "      <th>1</th>\n",
              "      <td>2</td>\n",
              "      <td>60.577036</td>\n",
              "      <td>-6.320263</td>\n",
              "      <td>60.57721</td>\n",
              "      <td>-6.32022</td>\n",
              "      <td>99.0</td>\n",
              "      <td>19.23860</td>\n",
              "      <td>17.36408</td>\n",
              "      <td>16.30307</td>\n",
              "      <td>15.70507</td>\n",
              "      <td>15.29092</td>\n",
              "    </tr>\n",
              "    <tr>\n",
              "      <th>2</th>\n",
              "      <td>3</td>\n",
              "      <td>0.627612</td>\n",
              "      <td>-3.527911</td>\n",
              "      <td>0.62750</td>\n",
              "      <td>-3.52781</td>\n",
              "      <td>53.0</td>\n",
              "      <td>18.61899</td>\n",
              "      <td>18.18854</td>\n",
              "      <td>18.09792</td>\n",
              "      <td>18.22570</td>\n",
              "      <td>18.07231</td>\n",
              "    </tr>\n",
              "    <tr>\n",
              "      <th>3</th>\n",
              "      <td>4</td>\n",
              "      <td>7.254108</td>\n",
              "      <td>-1.228265</td>\n",
              "      <td>7.25421</td>\n",
              "      <td>-1.22825</td>\n",
              "      <td>207.0</td>\n",
              "      <td>17.50779</td>\n",
              "      <td>15.65948</td>\n",
              "      <td>14.69832</td>\n",
              "      <td>14.23905</td>\n",
              "      <td>13.93871</td>\n",
              "    </tr>\n",
              "    <tr>\n",
              "      <th>4</th>\n",
              "      <td>5</td>\n",
              "      <td>319.013462</td>\n",
              "      <td>-1.141231</td>\n",
              "      <td>319.01350</td>\n",
              "      <td>-1.14133</td>\n",
              "      <td>93.0</td>\n",
              "      <td>18.87722</td>\n",
              "      <td>18.36756</td>\n",
              "      <td>17.88198</td>\n",
              "      <td>17.58896</td>\n",
              "      <td>17.31564</td>\n",
              "    </tr>\n",
              "    <tr>\n",
              "      <th>5</th>\n",
              "      <td>6</td>\n",
              "      <td>184.494719</td>\n",
              "      <td>-0.496196</td>\n",
              "      <td>184.49479</td>\n",
              "      <td>-0.49594</td>\n",
              "      <td>404.0</td>\n",
              "      <td>18.63554</td>\n",
              "      <td>18.11830</td>\n",
              "      <td>17.67046</td>\n",
              "      <td>17.37298</td>\n",
              "      <td>17.12646</td>\n",
              "    </tr>\n",
              "  </tbody>\n",
              "</table>\n",
              "</div>\n",
              "      <button class=\"colab-df-convert\" onclick=\"convertToInteractive('df-7d1e91ad-bc3f-4248-8ebd-bfd05dde8488')\"\n",
              "              title=\"Convert this dataframe to an interactive table.\"\n",
              "              style=\"display:none;\">\n",
              "        \n",
              "  <svg xmlns=\"http://www.w3.org/2000/svg\" height=\"24px\"viewBox=\"0 0 24 24\"\n",
              "       width=\"24px\">\n",
              "    <path d=\"M0 0h24v24H0V0z\" fill=\"none\"/>\n",
              "    <path d=\"M18.56 5.44l.94 2.06.94-2.06 2.06-.94-2.06-.94-.94-2.06-.94 2.06-2.06.94zm-11 1L8.5 8.5l.94-2.06 2.06-.94-2.06-.94L8.5 2.5l-.94 2.06-2.06.94zm10 10l.94 2.06.94-2.06 2.06-.94-2.06-.94-.94-2.06-.94 2.06-2.06.94z\"/><path d=\"M17.41 7.96l-1.37-1.37c-.4-.4-.92-.59-1.43-.59-.52 0-1.04.2-1.43.59L10.3 9.45l-7.72 7.72c-.78.78-.78 2.05 0 2.83L4 21.41c.39.39.9.59 1.41.59.51 0 1.02-.2 1.41-.59l7.78-7.78 2.81-2.81c.8-.78.8-2.07 0-2.86zM5.41 20L4 18.59l7.72-7.72 1.47 1.35L5.41 20z\"/>\n",
              "  </svg>\n",
              "      </button>\n",
              "      \n",
              "  <style>\n",
              "    .colab-df-container {\n",
              "      display:flex;\n",
              "      flex-wrap:wrap;\n",
              "      gap: 12px;\n",
              "    }\n",
              "\n",
              "    .colab-df-convert {\n",
              "      background-color: #E8F0FE;\n",
              "      border: none;\n",
              "      border-radius: 50%;\n",
              "      cursor: pointer;\n",
              "      display: none;\n",
              "      fill: #1967D2;\n",
              "      height: 32px;\n",
              "      padding: 0 0 0 0;\n",
              "      width: 32px;\n",
              "    }\n",
              "\n",
              "    .colab-df-convert:hover {\n",
              "      background-color: #E2EBFA;\n",
              "      box-shadow: 0px 1px 2px rgba(60, 64, 67, 0.3), 0px 1px 3px 1px rgba(60, 64, 67, 0.15);\n",
              "      fill: #174EA6;\n",
              "    }\n",
              "\n",
              "    [theme=dark] .colab-df-convert {\n",
              "      background-color: #3B4455;\n",
              "      fill: #D2E3FC;\n",
              "    }\n",
              "\n",
              "    [theme=dark] .colab-df-convert:hover {\n",
              "      background-color: #434B5C;\n",
              "      box-shadow: 0px 1px 3px 1px rgba(0, 0, 0, 0.15);\n",
              "      filter: drop-shadow(0px 1px 2px rgba(0, 0, 0, 0.3));\n",
              "      fill: #FFFFFF;\n",
              "    }\n",
              "  </style>\n",
              "\n",
              "      <script>\n",
              "        const buttonEl =\n",
              "          document.querySelector('#df-7d1e91ad-bc3f-4248-8ebd-bfd05dde8488 button.colab-df-convert');\n",
              "        buttonEl.style.display =\n",
              "          google.colab.kernel.accessAllowed ? 'block' : 'none';\n",
              "\n",
              "        async function convertToInteractive(key) {\n",
              "          const element = document.querySelector('#df-7d1e91ad-bc3f-4248-8ebd-bfd05dde8488');\n",
              "          const dataTable =\n",
              "            await google.colab.kernel.invokeFunction('convertToInteractive',\n",
              "                                                     [key], {});\n",
              "          if (!dataTable) return;\n",
              "\n",
              "          const docLinkHtml = 'Like what you see? Visit the ' +\n",
              "            '<a target=\"_blank\" href=https://colab.research.google.com/notebooks/data_table.ipynb>data table notebook</a>'\n",
              "            + ' to learn more about interactive tables.';\n",
              "          element.innerHTML = '';\n",
              "          dataTable['output_type'] = 'display_data';\n",
              "          await google.colab.output.renderOutput(dataTable, element);\n",
              "          const docLink = document.createElement('div');\n",
              "          docLink.innerHTML = docLinkHtml;\n",
              "          element.appendChild(docLink);\n",
              "        }\n",
              "      </script>\n",
              "    </div>\n",
              "  </div>\n",
              "  "
            ]
          },
          "metadata": {},
          "execution_count": 91
        }
      ]
    },
    {
      "cell_type": "markdown",
      "source": [
        "Plot:"
      ],
      "metadata": {
        "id": "u77q022L5XO5"
      }
    },
    {
      "cell_type": "code",
      "source": [
        "plt.scatter(ra4,dec4,color='red',marker='+',label='AT20G')\n",
        "plt.scatter(ra5,dec5,color='blue',marker='x',label='SDSS')\n",
        "plt.title('RA and DEC')\n",
        "plt.xlabel('RA')\n",
        "plt.ylabel('DEC')\n",
        "plt.legend()\n",
        "plt.savefig('/content/drive/Shareddrives/MSc 1 Sem 2/Astronomy and Astrophysics/SDSSxat20g.png', dpi=300)"
      ],
      "metadata": {
        "id": "-Tb3bRSJ6Cyj",
        "colab": {
          "base_uri": "https://localhost:8080/",
          "height": 295
        },
        "outputId": "97b76e26-a29a-46bd-a5d9-b4b5307ab12b"
      },
      "execution_count": null,
      "outputs": [
        {
          "output_type": "display_data",
          "data": {
            "text/plain": [
              "<Figure size 432x288 with 1 Axes>"
            ],
            "image/png": "[encoded data removed]"
          },
          "metadata": {
            "needs_background": "light"
          }
        }
      ]
    },
    {
      "cell_type": "markdown",
      "source": [
        "# SuperXAT20G"
      ],
      "metadata": {
        "id": "xqXNP37HW76d"
      }
    },
    {
      "cell_type": "markdown",
      "source": [
        "Importing Data and Cross Matching"
      ],
      "metadata": {
        "id": "L4Rmm31J5KDn"
      }
    },
    {
      "cell_type": "code",
      "source": [
        "og=[id1,reference_points,bmag]=import_superfull(5000000)\n",
        "og1=[id2,query_points,flux20hz,flux8hz]=import_at20g()\n",
        "\n",
        "r_new3,q_new3,dist3=KD_CM(reference_points,query_points,1)"
      ],
      "metadata": {
        "colab": {
          "base_uri": "https://localhost:8080/"
        },
        "id": "jdiXl0XbLVGg",
        "outputId": "ba3082bd-485e-4ddd-9911-878791807b73"
      },
      "execution_count": null,
      "outputs": [
        {
          "output_type": "stream",
          "name": "stdout",
          "text": [
            "Time taken for KD:  47.34911562599882\n"
          ]
        }
      ]
    },
    {
      "cell_type": "markdown",
      "source": [
        "Creating New Catalogue"
      ],
      "metadata": {
        "id": "QMgdER2M5OzC"
      }
    },
    {
      "cell_type": "code",
      "source": [
        "ra1=[]                  \n",
        "dec1=[]\n",
        "flux=[]\n",
        "k=[]\n",
        "k1=1\n",
        "\n",
        "for j in r_new3:\n",
        "  for i in og[1]:\n",
        "    if i==j:  \n",
        "      (ra,dec)=og[1] [og[1].index(i)]\n",
        "      f=og[2][og[1].index(i)]\n",
        "      ra1.append(ra)\n",
        "      dec1.append(dec)\n",
        "      flux.append(f)\n",
        "      k.append(k1)\n",
        "      k1+=1\n",
        "\n",
        "ra2=[]\n",
        "dec2=[]\n",
        "bmag=[]\n",
        "for j in q_new3:\n",
        "  for i in og1[1]:\n",
        "    if i==j:     \n",
        "      (r,d)=og1[1][og1[1].index(i)]\n",
        "      bmag1=og1[2][og1[1].index(i)]\n",
        "      ra2.append(r)\n",
        "      dec2.append(d)\n",
        "      bmag.append(bmag1)\n",
        "  \n",
        "catal=[k,ra1,dec1,ra2,dec2,flux,bmag]\n",
        "cat_dict={'index':k,'ra1':ra1,'dec1':dec1,'ra2':ra2,'dec2':dec2,'flux':flux,'Bmag':bmag}\n",
        "\n",
        "len(flux)"
      ],
      "metadata": {
        "id": "UMKK7Q0Zd7ZL",
        "colab": {
          "base_uri": "https://localhost:8080/"
        },
        "outputId": "93dd6bc4-640e-4ee6-d152-79d92abbdd61"
      },
      "execution_count": null,
      "outputs": [
        {
          "output_type": "execute_result",
          "data": {
            "text/plain": [
              "76"
            ]
          },
          "metadata": {},
          "execution_count": 94
        }
      ]
    },
    {
      "cell_type": "code",
      "source": [
        "df2=pd.DataFrame(cat_dict)\n",
        "df2.to_csv(\"/content/drive/Shareddrives/MSc 1 Sem 2/at20gxsuperfull.csv\")\n",
        "df2"
      ],
      "metadata": {
        "id": "dCAXn8FofutU"
      },
      "execution_count": null,
      "outputs": []
    },
    {
      "cell_type": "markdown",
      "source": [
        "Plot"
      ],
      "metadata": {
        "id": "Wc31hpbg5Rkb"
      }
    },
    {
      "cell_type": "code",
      "source": [
        "plt.scatter(ra1,dec1,color='red',marker='+',label='AT20G')\n",
        "plt.scatter(ra2,dec2,color='blue',marker='x',label='SUPERCOSMOS')\n",
        "plt.title('RA and DEC')\n",
        "plt.xlabel('RA')\n",
        "plt.ylabel('DEC')\n",
        "plt.legend()\n",
        "plt.savefig('/content/drive/Shareddrives/MSc 1 Sem 2/Astronomy and Astrophysics/RADEC.png', dpi=300)"
      ],
      "metadata": {
        "id": "HRAILmcr23lS",
        "colab": {
          "base_uri": "https://localhost:8080/",
          "height": 295
        },
        "outputId": "eb20d94d-1029-422f-f6ba-10ff5b07dbb4"
      },
      "execution_count": null,
      "outputs": [
        {
          "output_type": "display_data",
          "data": {
            "text/plain": [
              "<Figure size 432x288 with 1 Axes>"
            ],
            "image/png": "[encoded data removed]"
          },
          "metadata": {
            "needs_background": "light"
          }
        }
      ]
    }
  ],
  "metadata": {
    "colab": {
      "collapsed_sections": [],
      "provenance": [],
      "include_colab_link": true
    },
    "kernelspec": {
      "display_name": "Python 3",
      "name": "python3"
    },
    "language_info": {
      "name": "python"
    }
  },
  "nbformat": 4,
  "nbformat_minor": 0
}